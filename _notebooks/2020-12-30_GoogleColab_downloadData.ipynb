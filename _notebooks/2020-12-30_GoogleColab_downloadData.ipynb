{
  "nbformat": 4,
  "nbformat_minor": 0,
  "metadata": {
    "colab": {
      "name": "2020-12-30-GoogleColab_downloadData.ipynb",
      "provenance": [],
      "collapsed_sections": []
    },
    "kernelspec": {
      "name": "python3",
      "display_name": "Python 3"
    }
  },
  "cells": [
    {
      "cell_type": "markdown",
      "metadata": {
        "id": "dyMrmQIx3nHv"
      },
      "source": [
        "# Download data in GoogleColab\n",
        "> Download data in GoogleColab. Unzipping is very very very slow!\n",
        "\n",
        "- toc: true \n",
        "- badges: true\n",
        "- comments: true\n",
        "- categories: [Commands, GoogleColab]\n",
        "- image: images/chart-preview.png"
      ]
    },
    {
      "cell_type": "code",
      "metadata": {
        "colab": {
          "base_uri": "https://localhost:8080/"
        },
        "id": "Dbjn3UnO01zb",
        "outputId": "4dd72b3e-1fc9-4153-ae98-e444eb5f3c3e"
      },
      "source": [
        "from google.colab import drive\n",
        "\n",
        "drive.mount('/content/gdrive', force_remount = \"True\")\n",
        "root_path = 'gdrive/My Drive/sims-data/malaria/'  #change dir to your project folder\n"
      ],
      "execution_count": null,
      "outputs": [
        {
          "output_type": "stream",
          "text": [
            "Mounted at /content/gdrive\n"
          ],
          "name": "stdout"
        }
      ]
    },
    {
      "cell_type": "code",
      "metadata": {
        "id": "Ns-GawnZ4wes",
        "colab": {
          "base_uri": "https://localhost:8080/"
        },
        "outputId": "6253cb15-49a8-4f73-d3f8-064bcba3bb02"
      },
      "source": [
        "!pwd\n",
        "import os\n",
        "os.chdir(\"/content/gdrive/My Drive/sims-data/malaria/\")\n",
        "!pwd"
      ],
      "execution_count": null,
      "outputs": [
        {
          "output_type": "stream",
          "text": [
            "shell-init: error retrieving current directory: getcwd: cannot access parent directories: Transport endpoint is not connected\n",
            "pwd: error retrieving current directory: getcwd: cannot access parent directories: Transport endpoint is not connected\n",
            "/content/gdrive/My Drive/sims-data/malaria\n"
          ],
          "name": "stdout"
        }
      ]
    },
    {
      "cell_type": "markdown",
      "metadata": {
        "id": "PblAILhzBB2s"
      },
      "source": [
        "## 1. Download files directly in GoogleColab"
      ]
    },
    {
      "cell_type": "code",
      "metadata": {
        "id": "nu1ZHgK_20HR",
        "colab": {
          "base_uri": "https://localhost:8080/"
        },
        "outputId": "f2281088-b967-477e-b326-7b10c190d24e"
      },
      "source": [
        "!wget -P '/content/gdrive/My Drive/sims-data/malaria/'  'ftp://lhcftp.nlm.nih.gov/Open-Access-Datasets/Malaria/cell_images.zip' "
      ],
      "execution_count": null,
      "outputs": [
        {
          "output_type": "stream",
          "text": [
            "--2020-12-30 09:32:01--  ftp://lhcftp.nlm.nih.gov/Open-Access-Datasets/Malaria/cell_images.zip\n",
            "           => ‘/content/gdrive/My Drive/sims-data/malaria/cell_images.zip’\n",
            "Resolving lhcftp.nlm.nih.gov (lhcftp.nlm.nih.gov)... 130.14.55.35, 2607:f220:41e:7055::35\n",
            "Connecting to lhcftp.nlm.nih.gov (lhcftp.nlm.nih.gov)|130.14.55.35|:21... connected.\n",
            "Logging in as anonymous ... Logged in!\n",
            "==> SYST ... done.    ==> PWD ... done.\n",
            "==> TYPE I ... done.  ==> CWD (1) /Open-Access-Datasets/Malaria ... done.\n",
            "==> SIZE cell_images.zip ... 353452851\n",
            "==> PASV ... done.    ==> RETR cell_images.zip ... done.\n",
            "Length: 353452851 (337M) (unauthoritative)\n",
            "\n",
            "cell_images.zip     100%[===================>] 337.08M  41.4MB/s    in 8.8s    \n",
            "\n",
            "2020-12-30 09:32:11 (38.1 MB/s) - ‘/content/gdrive/My Drive/sims-data/malaria/cell_images.zip’ saved [353452851]\n",
            "\n"
          ],
          "name": "stdout"
        }
      ]
    },
    {
      "cell_type": "code",
      "metadata": {
        "colab": {
          "base_uri": "https://localhost:8080/"
        },
        "id": "HPVMgE3R9jCm",
        "outputId": "4e031ebc-43d8-4f25-f759-64b276a62c6e"
      },
      "source": [
        "!ls"
      ],
      "execution_count": null,
      "outputs": [
        {
          "output_type": "stream",
          "text": [
            "cell_images.zip\n"
          ],
          "name": "stdout"
        }
      ]
    },
    {
      "cell_type": "code",
      "metadata": {
        "colab": {
          "base_uri": "https://localhost:8080/"
        },
        "id": "hEbGJSii_afD",
        "outputId": "d2d0787e-89f5-4368-8dba-9cc35d37ecd6"
      },
      "source": [
        "!pwd"
      ],
      "execution_count": null,
      "outputs": [
        {
          "output_type": "stream",
          "text": [
            "/content/gdrive/My Drive/sims-data/malaria\n"
          ],
          "name": "stdout"
        }
      ]
    },
    {
      "cell_type": "code",
      "metadata": {
        "id": "fzwDwmHBB0IB"
      },
      "source": [
        "! rm -R \"/content/gdrive/My Drive/sims-data/malaria/cell_images/\""
      ],
      "execution_count": null,
      "outputs": []
    },
    {
      "cell_type": "markdown",
      "metadata": {
        "id": "S5XqhSJo_9yt"
      },
      "source": [
        "## 2. Unzip folder in GoogleColab\n",
        "\n",
        "- Unzipping in GoogleColab is painfully slow. It is faster to download data locally and load it unzipped in GoogleColab.\n",
        "\n",
        "!unzip -q file[.zip] -d [exdir]\n",
        "\n",
        "-q suppress the printing of the file names being extracted\n",
        "\n",
        "-d [exdir] optional directory to which to extract file"
      ]
    },
    {
      "cell_type": "code",
      "metadata": {
        "id": "wKDHbdVx_fQO"
      },
      "source": [
        "!unzip -q \"cell_images.zip\""
      ],
      "execution_count": null,
      "outputs": []
    },
    {
      "cell_type": "markdown",
      "metadata": {
        "id": "gHjrFiiJAxUb"
      },
      "source": [
        "## 3. Check size of folder in GoogleColab\n"
      ]
    },
    {
      "cell_type": "code",
      "metadata": {
        "colab": {
          "base_uri": "https://localhost:8080/"
        },
        "id": "fofaLCd_AJcl",
        "outputId": "5e5264f8-d3fc-4220-e4fa-d82efff4ebae"
      },
      "source": [
        "! du -sh \"/content/gdrive/\""
      ],
      "execution_count": null,
      "outputs": [
        {
          "output_type": "stream",
          "text": [
            "8.0G\t/content/gdrive/\n"
          ],
          "name": "stdout"
        }
      ]
    },
    {
      "cell_type": "markdown",
      "metadata": {
        "id": "IVg1kwFduB46"
      },
      "source": [
        "## 4. GitClone a GitHub repository in GoogleDrive\n"
      ]
    },
    {
      "cell_type": "code",
      "metadata": {
        "colab": {
          "base_uri": "https://localhost:8080/"
        },
        "id": "jdeFxj9fLO8V",
        "outputId": "0d439bed-41a4-4e1e-8bed-ba9fee62f887"
      },
      "source": [
        "from google.colab import drive\n",
        "\n",
        "drive.mount('/content/gdrive', force_remount = \"True\")\n",
        "root_path = 'gdrive/My Drive/'  #change dir to your project folder\n",
        "!pwd\n",
        "import os\n",
        "os.chdir(root_path)\n",
        "!pwd"
      ],
      "execution_count": 6,
      "outputs": [
        {
          "output_type": "stream",
          "text": [
            "Mounted at /content/gdrive\n",
            "/content\n",
            "/content/gdrive/My Drive\n"
          ],
          "name": "stdout"
        }
      ]
    },
    {
      "cell_type": "code",
      "metadata": {
        "id": "NppvmUSKLpzF",
        "colab": {
          "base_uri": "https://localhost:8080/"
        },
        "outputId": "29a23ab4-079b-43c9-85db-6a9873a82108"
      },
      "source": [
        "! git clone https://github.com/simsisim/sims-data.git"
      ],
      "execution_count": 7,
      "outputs": [
        {
          "output_type": "stream",
          "text": [
            "Cloning into 'sims-data'...\n",
            "remote: Enumerating objects: 27566, done.\u001b[K\n",
            "remote: Total 27566 (delta 0), reused 0 (delta 0), pack-reused 27566\u001b[K\n",
            "Receiving objects: 100% (27566/27566), 331.64 MiB | 12.95 MiB/s, done.\n",
            "Checking out files: 100% (27560/27560), done.\n"
          ],
          "name": "stdout"
        }
      ]
    },
    {
      "cell_type": "code",
      "metadata": {
        "id": "FLaVgNiGs2-e"
      },
      "source": [
        "#!rm -R sims-data/"
      ],
      "execution_count": 4,
      "outputs": []
    },
    {
      "cell_type": "code",
      "metadata": {
        "id": "20D-5wfktLJq"
      },
      "source": [
        "#!ls"
      ],
      "execution_count": 14,
      "outputs": []
    },
    {
      "cell_type": "markdown",
      "metadata": {
        "id": "dKhjFBs6Ff_H"
      },
      "source": [
        "## References\n",
        "\n",
        "https://medium.com/@satyajitghana7/working-with-huge-datasets-800k-files-in-google-colab-and-google-drive-bcb175c79477"
      ]
    }
  ]
}