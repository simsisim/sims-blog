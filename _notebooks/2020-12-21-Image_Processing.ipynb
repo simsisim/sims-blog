{
 "cells": [
  {
   "cell_type": "markdown",
   "metadata": {},
   "source": [
    "# Image Processing Dense Array, JPEG, PNG\n",
    "> In this post, we will cover the basics of working with images in Matplotlib, OpenCV and Keras.\n",
    "\n",
    "- toc: true \n",
    "- badges: true\n",
    "- comments: true\n",
    "- categories: [Image Processing, Computer Vision]\n",
    "- image: images/freedom.png"
   ]
  },
  {
   "cell_type": "markdown",
   "metadata": {},
   "source": [
    "Images are dense matrixes, and have a certain numbers of rows and columns. They can have 1 (grey) or 3 (RGB) or 4 (RGB + alpha-transparency) channels. \n",
    "\n",
    "The dimension of the image matrix is ( height, width, channels)."
   ]
  },
  {
   "cell_type": "code",
   "execution_count": 4,
   "metadata": {},
   "outputs": [],
   "source": [
    "import numpy as np\n",
    "import matplotlib.pyplot as plt\n",
    "import matplotlib.image as mpimg\n",
    "from PIL import Image\n",
    "import cv2\n",
    "from sys import getsizeof\n",
    "import tensorflow as tf"
   ]
  },
  {
   "cell_type": "markdown",
   "metadata": {},
   "source": [
    "# 1. Load image files (*.jpg, *.png, *.bmp, *.tif)\n",
    "\n",
    "   - ~~using PIL~~\n",
    "   - using matplotlib: reads image as RGB\n",
    "   - using cv2 :  reads image as BRG\n",
    "   \n",
    "   \n",
    "  - imread: reads a file from disk and decodes it\n",
    "  - imsave: encodes a image and writes it to a file on disk  "
   ]
  },
  {
   "cell_type": "code",
   "execution_count": null,
   "metadata": {},
   "outputs": [],
   "source": [
    "#using PIL\n",
    "#image = Image.open(\"images/freedom.png\")\n",
    "#plt.show(image)"
   ]
  },
  {
   "cell_type": "markdown",
   "metadata": {},
   "source": [
    "#### Load image using Matplotlib\n",
    "The Matplotlib image tutorial recommends using matplotlib.image.imread to read image formats from disk. This function will automatically change image array values to floats between zero and one, and it doesn't give any other options about how to read the image.\n",
    "\n",
    "   - imshow works on 0-1 floats & 0-255 uint8 values\n",
    "   - It doesn't work on int!"
   ]
  },
  {
   "cell_type": "code",
   "execution_count": 6,
   "metadata": {},
   "outputs": [],
   "source": [
    "#using matplotlib.image\n",
    "image = mpimg.imread(\"images/freedom.png\")\n",
    "#plt.imshow(image)\n",
    "#plt.colorbar()"
   ]
  },
  {
   "cell_type": "code",
   "execution_count": 5,
   "metadata": {},
   "outputs": [
    {
     "name": "stdout",
     "output_type": "stream",
     "text": [
      "float32\n"
     ]
    }
   ],
   "source": [
    "print(image.dtype)\n",
    "freedom_array_uint8 = (image*255).astype(np.uint8) #convert to 0-255 values"
   ]
  },
  {
   "cell_type": "markdown",
   "metadata": {},
   "source": [
    "#### Load image using OpenCV"
   ]
  },
  {
   "cell_type": "markdown",
   "metadata": {},
   "source": [
    "For this image, the matrix will have 600 x 400 x 3 = 720,000 values. Each value is an unsigned 8-bit integer, in total 720,000 bytes.\n",
    "\n",
    "Using unsigned 8-bit integers (256 possible values) for each value in the image array is enough for displaying images to humans. But when working with image data, it isn't uncommon to switch to 32-bit floats, for example.  This increases tremendously the size of the data.\n",
    "\n",
    "By loading the image files we can save them as arrays. Typical array operations can be performed on them. "
   ]
  },
  {
   "cell_type": "code",
   "execution_count": 7,
   "metadata": {},
   "outputs": [
    {
     "name": "stdout",
     "output_type": "stream",
     "text": [
      "(600, 400, 3) uint8\n"
     ]
    }
   ],
   "source": [
    "print (RGB_image.shape, RGB_image.dtype)"
   ]
  },
  {
   "cell_type": "markdown",
   "metadata": {},
   "source": [
    "### Load image using keras.preprocessing.image\n",
    "\n",
    "   - load_img(image): loads and decodes image\n",
    "   - img_to_array(image)"
   ]
  },
  {
   "cell_type": "code",
   "execution_count": 8,
   "metadata": {},
   "outputs": [
    {
     "name": "stdout",
     "output_type": "stream",
     "text": [
      "<class 'PIL.Image.Image'>\n",
      "None\n",
      "RGB\n",
      "(400, 600)\n"
     ]
    }
   ],
   "source": [
    "image_keras = tf.keras.preprocessing.image.load_img(\"images/freedom.png\") # loads and decodes image\n",
    "print(type(image_keras))\n",
    "print(image_keras.format)\n",
    "print(image_keras.mode)\n",
    "print(image_keras.size)\n",
    "#image_keras.show()"
   ]
  },
  {
   "cell_type": "markdown",
   "metadata": {},
   "source": [
    "# 2. Image Processing"
   ]
  },
  {
   "cell_type": "markdown",
   "metadata": {},
   "source": [
    "#### Dense Array\n",
    "\n",
    "One way to store complete raster image data is by serializing a NumPy array to disk.\n",
    "\n",
    "image04npy = 720,128 bytes\n",
    "\n",
    "The file image04npy has 128 more bytes than the one required to store the array values. Those extra bytes specify things like the array shape/dimensions. "
   ]
  },
  {
   "cell_type": "code",
   "execution_count": 9,
   "metadata": {},
   "outputs": [
    {
     "name": "stdout",
     "output_type": "stream",
     "text": [
      "Size of array: 720000\n",
      "Size of disk: 720128\n"
     ]
    }
   ],
   "source": [
    "np.save(\"freedom.npy\", RGB_image)\n",
    "freedomnpy = np.load('freedom.npy')\n",
    "print(\"Size of array:\", freedomnpy.nbytes)\n",
    "print(\"Size of disk:\", getsizeof(freedomnpy))"
   ]
  },
  {
   "cell_type": "markdown",
   "metadata": {},
   "source": [
    "Storing one pixels takes several bytes.There are two main options for saving images: whether to lose some information while saving, or not. "
   ]
  },
  {
   "cell_type": "markdown",
   "metadata": {},
   "source": [
    "#### JPG format \n",
    "\n",
    "  - JPEG is lossy by deflaut\n",
    "\n",
    "  - When saving an image as $*$.JPEG and read from it again, it is not necessary to get back the same values\n",
    "  \n",
    "  - The \"image04_jpg.jpg\" has 6.3 kB, less than the 7\\% of $*$.npy file that generated it\n",
    "  \n",
    "  - cv2.IMWRITE_JPEG_QUALITY  is between (0, 100), and allows to save losseless"
   ]
  },
  {
   "cell_type": "markdown",
   "metadata": {},
   "source": [
    "#### PNG format \n",
    "\n",
    "  - PNG is lossless\n",
    "\n",
    "  - When saving an image as $*$.PNG and read from it again one gets the same value backs\n",
    "  \n",
    "  - cv2.IMWRITE_PNG_COMPRESSION is between (0, 1): bigger file, slower compression\n",
    "  \n",
    "  - freedom_png.png = 721.8 kB, close to freedomnpy "
   ]
  },
  {
   "cell_type": "markdown",
   "metadata": {},
   "source": [
    "References:\n",
    "\n",
    "<https://planspace.org/20170403-images_and_tfrecords/>\n",
    "\n",
    "<https://subscription.packtpub.com/book/application_development/9781788474443/1/ch01lvl1sec14/saving-images-using-lossy-and-lossless-compression>\n",
    "\n",
    "<https://www.tensorflow.org/tutorials/load_data/tfrecord>\n",
    "\n",
    "<https://machinelearningmastery.com/how-to-load-convert-and-save-images-with-the-keras-api/>"
   ]
  }
 ],
 "metadata": {
  "kernelspec": {
   "display_name": "Python 3",
   "language": "python",
   "name": "python3"
  },
  "language_info": {
   "codemirror_mode": {
    "name": "ipython",
    "version": 3
   },
   "file_extension": ".py",
   "mimetype": "text/x-python",
   "name": "python",
   "nbconvert_exporter": "python",
   "pygments_lexer": "ipython3",
   "version": "3.7.9"
  }
 },
 "nbformat": 4,
 "nbformat_minor": 4
}
