{
 "cells": [
  {
   "cell_type": "markdown",
   "metadata": {},
   "source": [
    "# Usage of openFoam in Colab\n",
    "> Usage of openFoam in Colab\n",
    "\n",
    "- toc: true \n",
    "- badges: true\n",
    "- comments: true\n",
    "- categories: [openFoam]\n",
    "- image: images/chart-preview.png"
   ]
  },
  {
   "cell_type": "markdown",
   "metadata": {
    "id": "OhbcRcTsmukE"
   },
   "source": [
    "## 1. Install openFoam"
   ]
  },
  {
   "cell_type": "code",
   "execution_count": 1,
   "metadata": {
    "colab": {
     "base_uri": "https://localhost:8080/"
    },
    "id": "h9YU6blpdnoH",
    "outputId": "a2d84dab-c820-494b-d233-cfbbeee9bc37"
   },
   "outputs": [
    {
     "name": "stdout",
     "output_type": "stream",
     "text": [
      "OK\n",
      "Hit:1 http://dl.openfoam.org/ubuntu bionic InRelease\n",
      "Hit:2 http://ppa.launchpad.net/c2d4u.team/c2d4u4.0+/ubuntu bionic InRelease\n",
      "Hit:3 http://archive.ubuntu.com/ubuntu bionic InRelease\n",
      "Hit:4 http://archive.ubuntu.com/ubuntu bionic-updates InRelease\n",
      "Hit:5 http://ppa.launchpad.net/cran/libgit2/ubuntu bionic InRelease\n",
      "Hit:6 https://cloud.r-project.org/bin/linux/ubuntu bionic-cran40/ InRelease\n",
      "Hit:7 http://archive.ubuntu.com/ubuntu bionic-backports InRelease\n",
      "Hit:8 http://ppa.launchpad.net/graphics-drivers/ppa/ubuntu bionic InRelease\n",
      "Hit:9 http://security.ubuntu.com/ubuntu bionic-security InRelease\n",
      "Ign:10 https://developer.download.nvidia.com/compute/cuda/repos/ubuntu1804/x86_64  InRelease\n",
      "Ign:11 https://developer.download.nvidia.com/compute/machine-learning/repos/ubuntu1804/x86_64  InRelease\n",
      "Hit:12 https://developer.download.nvidia.com/compute/cuda/repos/ubuntu1804/x86_64  Release\n",
      "Hit:13 https://developer.download.nvidia.com/compute/machine-learning/repos/ubuntu1804/x86_64  Release\n",
      "Reading package lists...\n",
      "Hit:1 http://ppa.launchpad.net/c2d4u.team/c2d4u4.0+/ubuntu bionic InRelease\n",
      "Hit:2 http://archive.ubuntu.com/ubuntu bionic InRelease\n",
      "Hit:3 http://dl.openfoam.org/ubuntu bionic InRelease\n",
      "Hit:4 https://cloud.r-project.org/bin/linux/ubuntu bionic-cran40/ InRelease\n",
      "Hit:5 http://archive.ubuntu.com/ubuntu bionic-updates InRelease\n",
      "Hit:6 http://ppa.launchpad.net/cran/libgit2/ubuntu bionic InRelease\n",
      "Hit:7 http://archive.ubuntu.com/ubuntu bionic-backports InRelease\n",
      "Hit:8 http://ppa.launchpad.net/graphics-drivers/ppa/ubuntu bionic InRelease\n",
      "Hit:9 http://security.ubuntu.com/ubuntu bionic-security InRelease\n",
      "Ign:10 https://developer.download.nvidia.com/compute/cuda/repos/ubuntu1804/x86_64  InRelease\n",
      "Ign:11 https://developer.download.nvidia.com/compute/machine-learning/repos/ubuntu1804/x86_64  InRelease\n",
      "Hit:12 https://developer.download.nvidia.com/compute/cuda/repos/ubuntu1804/x86_64  Release\n",
      "Hit:13 https://developer.download.nvidia.com/compute/machine-learning/repos/ubuntu1804/x86_64  Release\n",
      "Reading package lists...\n",
      "Reading package lists...\n",
      "Building dependency tree...\n",
      "Reading state information...\n",
      "openfoam6 is already the newest version (20190620).\n",
      "0 upgraded, 0 newly installed, 0 to remove and 20 not upgraded.\n"
     ]
    },
    {
     "name": "stderr",
     "output_type": "stream",
     "text": [
      "--2021-02-09 11:36:09--  http://dl.openfoam.org/gpg.key\n",
      "Resolving dl.openfoam.org (dl.openfoam.org)... 35.179.33.128\n",
      "Connecting to dl.openfoam.org (dl.openfoam.org)|35.179.33.128|:80... connected.\n",
      "HTTP request sent, awaiting response... 200 OK\n",
      "Length: 1710 (1.7K) [application/pgp-keys]\n",
      "Saving to: ‘STDOUT’\n",
      "\n",
      "     0K .                                                     100%  465M=0s\n",
      "\n",
      "2021-02-09 11:36:09 (465 MB/s) - written to stdout [1710/1710]\n",
      "\n",
      "Warning: apt-key output should not be parsed (stdout is not a terminal)\n"
     ]
    }
   ],
   "source": [
    "%%bash\n",
    "sh -c \"wget -O - http://dl.openfoam.org/gpg.key | apt-key add -\"\n",
    "add-apt-repository http://dl.openfoam.org/ubuntu\n",
    "apt-get update\n",
    "apt-get -y install openfoam6"
   ]
  },
  {
   "cell_type": "markdown",
   "metadata": {
    "id": "rPZT1TATmpqg"
   },
   "source": [
    "## 2. Copy the cavitation tutorial to the current directory\n"
   ]
  },
  {
   "cell_type": "code",
   "execution_count": 2,
   "metadata": {
    "id": "wnZk2FHjhZ94"
   },
   "outputs": [],
   "source": [
    "%%bash\n",
    ". /opt/openfoam6/etc/bashrc\n",
    "cp -r $FOAM_TUTORIALS/incompressible/icoFoam/cavity/cavity ./\n"
   ]
  },
  {
   "cell_type": "markdown",
   "metadata": {
    "id": "yuPuLmB1mlOH"
   },
   "source": [
    "## 3. Calculation execution"
   ]
  },
  {
   "cell_type": "code",
   "execution_count": 3,
   "metadata": {
    "colab": {
     "base_uri": "https://localhost:8080/"
    },
    "id": "7CE4JW3uhq7c",
    "outputId": "15a0511e-ebff-402e-f36b-3df97cd0a8b7"
   },
   "outputs": [
    {
     "name": "stdout",
     "output_type": "stream",
     "text": [
      "0\n",
      "0.1\n",
      "0.2\n",
      "0.3\n",
      "0.4\n",
      "0.5\n",
      "constant\n",
      "log.blockMesh\n",
      "log.icoFoam\n",
      "system\n"
     ]
    }
   ],
   "source": [
    "%%bash\n",
    ". /opt/openfoam6/etc/bashrc\n",
    "cd ./cavity\n",
    "blockMesh >log.blockMesh 2>&1\n",
    "icoFoam >log.icoFoam 2>&1 \n",
    "ls"
   ]
  },
  {
   "cell_type": "markdown",
   "metadata": {
    "id": "Um9_3lgKmf3c"
   },
   "source": [
    "## 4. Zip and download calculation."
   ]
  },
  {
   "cell_type": "code",
   "execution_count": 4,
   "metadata": {
    "colab": {
     "base_uri": "https://localhost:8080/"
    },
    "id": "_0NvQYDLiw3J",
    "outputId": "85aa2e88-e3c3-4b87-f398-3fc510a95536"
   },
   "outputs": [
    {
     "name": "stdout",
     "output_type": "stream",
     "text": [
      "  adding: cavity/ (stored 0%)\n",
      "  adding: cavity/0.1/ (stored 0%)\n",
      "  adding: cavity/0.1/p (deflated 57%)\n",
      "  adding: cavity/0.1/phi (deflated 63%)\n",
      "  adding: cavity/0.1/U (deflated 63%)\n",
      "  adding: cavity/0.1/uniform/ (stored 0%)\n",
      "  adding: cavity/0.1/uniform/time (deflated 63%)\n",
      "  adding: cavity/0.3/ (stored 0%)\n",
      "  adding: cavity/0.3/p (deflated 56%)\n",
      "  adding: cavity/0.3/phi (deflated 63%)\n",
      "  adding: cavity/0.3/U (deflated 63%)\n",
      "  adding: cavity/0.3/uniform/ (stored 0%)\n",
      "  adding: cavity/0.3/uniform/time (deflated 63%)\n",
      "  adding: cavity/0.5/ (stored 0%)\n",
      "  adding: cavity/0.5/p (deflated 57%)\n",
      "  adding: cavity/0.5/phi (deflated 63%)\n",
      "  adding: cavity/0.5/U (deflated 63%)\n",
      "  adding: cavity/0.5/uniform/ (stored 0%)\n",
      "  adding: cavity/0.5/uniform/time (deflated 63%)\n",
      "  adding: cavity/log.blockMesh (deflated 57%)\n",
      "  adding: cavity/0.4/ (stored 0%)\n",
      "  adding: cavity/0.4/p (deflated 57%)\n",
      "  adding: cavity/0.4/phi (deflated 63%)\n",
      "  adding: cavity/0.4/U (deflated 63%)\n",
      "  adding: cavity/0.4/uniform/ (stored 0%)\n",
      "  adding: cavity/0.4/uniform/time (deflated 63%)\n",
      "  adding: cavity/system/ (stored 0%)\n",
      "  adding: cavity/system/controlDict (deflated 61%)\n",
      "  adding: cavity/system/blockMeshDict (deflated 64%)\n",
      "  adding: cavity/system/fvSolution (deflated 64%)\n",
      "  adding: cavity/system/fvSchemes (deflated 66%)\n",
      "  adding: cavity/0.2/ (stored 0%)\n",
      "  adding: cavity/0.2/p (deflated 57%)\n",
      "  adding: cavity/0.2/phi (deflated 63%)\n",
      "  adding: cavity/0.2/U (deflated 63%)\n",
      "  adding: cavity/0.2/uniform/ (stored 0%)\n",
      "  adding: cavity/0.2/uniform/time (deflated 63%)\n",
      "  adding: cavity/log.icoFoam (deflated 87%)\n",
      "  adding: cavity/constant/ (stored 0%)\n",
      "  adding: cavity/constant/transportProperties (deflated 61%)\n",
      "  adding: cavity/constant/polyMesh/ (stored 0%)\n",
      "  adding: cavity/constant/polyMesh/boundary (deflated 67%)\n",
      "  adding: cavity/constant/polyMesh/points (deflated 87%)\n",
      "  adding: cavity/constant/polyMesh/faces (deflated 64%)\n",
      "  adding: cavity/constant/polyMesh/neighbour (deflated 59%)\n",
      "  adding: cavity/constant/polyMesh/owner (deflated 76%)\n",
      "  adding: cavity/0/ (stored 0%)\n",
      "  adding: cavity/0/p (deflated 63%)\n",
      "  adding: cavity/0/U (deflated 63%)\n"
     ]
    }
   ],
   "source": [
    "%%bash\n",
    "zip -r cavity.zip ./cavity"
   ]
  },
  {
   "cell_type": "code",
   "execution_count": 5,
   "metadata": {
    "colab": {
     "base_uri": "https://localhost:8080/",
     "height": 17
    },
    "id": "7QRN7U1WkG6R",
    "outputId": "69a7b071-4c85-4448-c7b1-54070da78215"
   },
   "outputs": [
    {
     "data": {
      "application/javascript": [
       "\n",
       "    async function download(id, filename, size) {\n",
       "      if (!google.colab.kernel.accessAllowed) {\n",
       "        return;\n",
       "      }\n",
       "      const div = document.createElement('div');\n",
       "      const label = document.createElement('label');\n",
       "      label.textContent = `Downloading \"${filename}\": `;\n",
       "      div.appendChild(label);\n",
       "      const progress = document.createElement('progress');\n",
       "      progress.max = size;\n",
       "      div.appendChild(progress);\n",
       "      document.body.appendChild(div);\n",
       "\n",
       "      const buffers = [];\n",
       "      let downloaded = 0;\n",
       "\n",
       "      const channel = await google.colab.kernel.comms.open(id);\n",
       "      // Send a message to notify the kernel that we're ready.\n",
       "      channel.send({})\n",
       "\n",
       "      for await (const message of channel.messages) {\n",
       "        // Send a message to notify the kernel that we're ready.\n",
       "        channel.send({})\n",
       "        if (message.buffers) {\n",
       "          for (const buffer of message.buffers) {\n",
       "            buffers.push(buffer);\n",
       "            downloaded += buffer.byteLength;\n",
       "            progress.value = downloaded;\n",
       "          }\n",
       "        }\n",
       "      }\n",
       "      const blob = new Blob(buffers, {type: 'application/binary'});\n",
       "      const a = document.createElement('a');\n",
       "      a.href = window.URL.createObjectURL(blob);\n",
       "      a.download = filename;\n",
       "      div.appendChild(a);\n",
       "      a.click();\n",
       "      div.remove();\n",
       "    }\n",
       "  "
      ],
      "text/plain": [
       "<IPython.core.display.Javascript object>"
      ]
     },
     "metadata": {
      "tags": []
     },
     "output_type": "display_data"
    },
    {
     "data": {
      "application/javascript": [
       "download(\"download_8c1a7aa7-16ae-42dc-b903-3298e7e5eb6e\", \"cavity.zip\", 90096)"
      ],
      "text/plain": [
       "<IPython.core.display.Javascript object>"
      ]
     },
     "metadata": {
      "tags": []
     },
     "output_type": "display_data"
    }
   ],
   "source": [
    "from google.colab import files\n",
    "files.download('cavity.zip')"
   ]
  }
 ],
 "metadata": {
  "colab": {
   "collapsed_sections": [],
   "name": "openFoam-installation.ipynb",
   "provenance": []
  },
  "kernelspec": {
   "display_name": "Python 3",
   "language": "python",
   "name": "python3"
  },
  "language_info": {
   "codemirror_mode": {
    "name": "ipython",
    "version": 3
   },
   "file_extension": ".py",
   "mimetype": "text/x-python",
   "name": "python",
   "nbconvert_exporter": "python",
   "pygments_lexer": "ipython3",
   "version": "3.7.9"
  }
 },
 "nbformat": 4,
 "nbformat_minor": 4
}
