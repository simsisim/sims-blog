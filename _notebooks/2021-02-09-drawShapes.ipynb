{
 "cells": [
  {
   "cell_type": "markdown",
   "metadata": {},
   "source": [
    "# Draw Shapes in Matplotlib\n",
    "> Draw Shapes in Matplotlib\n",
    "\n",
    "- toc: true \n",
    "- badges: true\n",
    "- comments: true\n",
    "- categories: [matplotlib]\n",
    "- image: images/chart-preview.png"
   ]
  },
  {
   "cell_type": "markdown",
   "metadata": {
    "id": "OhbcRcTsmukE"
   },
   "source": [
    "## 1. Install openFoam"
   ]
  },
  {
   "cell_type": "code",
   "execution_count": 2,
   "metadata": {},
   "outputs": [],
   "source": [
    "import numpy as np\n",
    "import matplotlib.pyplot as plt\n",
    "import matplotlib.patches as mpatches\n",
    "#from matplotlib.patches import Polygon, Circle, Rectangle, Wedge"
   ]
  },
  {
   "cell_type": "code",
   "execution_count": 3,
   "metadata": {},
   "outputs": [
    {
     "data": {
      "image/png": "[encoded data removed]",
      "text/plain": [
       "<Figure size 504x504 with 1 Axes>"
      ]
     },
     "metadata": {},
     "output_type": "display_data"
    }
   ],
   "source": [
    "fig, (ax1) = plt.subplots(1, 1, figsize =(7, 7))\n",
    "ax1.patches.append(mpatches.Circle([0.2, 0.8], 0.05, transform=fig.transFigure))\n",
    "ax1.patches.append(mpatches.Rectangle((0.15, 0.58), 0.15, 0.15, transform=fig.transFigure))\n",
    "ax1.patches.append(mpatches.Rectangle((0.15, 0.45), 0.20, 0.10, transform=fig.transFigure))\n",
    "y = np.array([[0.15,0.35], [0.4,0.35], [0.15,0.42]])\n",
    "ax1.patches.append(mpatches.Polygon(y, transform=fig.transFigure))\n",
    "\n",
    "y = np.array([[0.20,0.20], [0.4,0.20], [0.5,0.32], [0.13, 0.30], [0.20,0.20]])\n",
    "ax1.patches.append(mpatches.Polygon(y, transform=fig.transFigure))\n",
    "\n",
    "\n",
    "y = np.array([[0.10,0.20], [0.4,0.20], [0.5,0.32], [0.13, 0.30], [0.20,0.20]])\n",
    "ax1.patches.append(mpatches.Polygon(y, transform=fig.transFigure))\n",
    "\n",
    "ax1.patches.append(mpatches.Rectangle((0.15, 0.15), 0.20, 0.025, transform=fig.transFigure))\n",
    "# combinations\n",
    "\n",
    "ax1.patches.append(mpatches.Rectangle((0.65, 0.62), 0.15, 0.15, transform=fig.transFigure))\n",
    "ax1.patches.append(mpatches.Circle([0.75, 0.8], 0.05, transform=fig.transFigure))\n",
    "\n",
    "ax1.patches.append(mpatches.Circle([0.75, 0.45], 0.04, transform=fig.transFigure))\n",
    "ax1.patches.append(mpatches.Circle([0.75, 0.50], 0.05, transform=fig.transFigure))\n",
    "ax1.patches.append(mpatches.Circle([0.70, 0.50], 0.05, transform=fig.transFigure))\n",
    "\n",
    "y = np.array([[0.65,0.15], [0.75,0.15], [0.65,0.4]])\n",
    "ax1.patches.append(mpatches.Polygon(y, transform=fig.transFigure))\n",
    "ax1.patches.append(mpatches.Circle([0.70, 0.30], 0.05, transform=fig.transFigure))\n",
    "ax1.patches.append(mpatches.Rectangle((0.65, 0.2), 0.20, 0.025, transform=fig.transFigure))\n",
    "\n",
    "#plt.axis('off')\n",
    "plt.xticks([])\n",
    "plt.yticks([])\n",
    "plt.savefig(\"shapes.png\", dpi = 300)"
   ]
  },
  {
   "cell_type": "code",
   "execution_count": 67,
   "metadata": {},
   "outputs": [
    {
     "data": {
      "image/png": "[encoded data removed]",
      "text/plain": [
       "<Figure size 504x504 with 1 Axes>"
      ]
     },
     "metadata": {
      "needs_background": "light"
     },
     "output_type": "display_data"
    }
   ],
   "source": [
    "fig, (ax1) = plt.subplots(1, 1,figsize = (7,7))\n",
    "ax1.set_xlim(0,1)\n",
    "ax1.set_ylim(0,1)\n",
    "ax1.patches.append(mpatches.Rectangle((0.23, 0.4), 0.55, 0.3, transform=fig.transFigure,\\\n",
    "                                      edgecolor = 'k', facecolor = \"None\", lw = 2))\n",
    "y = np.array([[0.40,0.45], [0.50,0.45], [0.45,0.4]])\n",
    "#ax1.patches.append(mpatches.Polygon(y, transform=fig.transFigure))\n",
    "\n",
    "ax1.patches.append(mpatches.Circle([0.45, 0.55], 0.05, transform=fig.transFigure))\n",
    "ax1.patches.append(mpatches.Rectangle([0.45, 0.55], 0.10,0.10, transform=fig.transFigure))\n",
    "#ax1.patches.append(mpatches.Rectangle((0.4, 0.4), 0.20, 0.025, transform=fig.transFigure))\n",
    "y_list = [0.4,  0.50,  0.60, 0.70]\n",
    "for _, y in enumerate(y_list):\n",
    "    ax1.arrow(0.135, y, 0.115, 0, length_includes_head=True,\n",
    "          head_width=0.03, head_length=0.02) \n",
    "    #ax1.arrow(0.85, y, 0.1, 0, length_includes_head=True,\n",
    "    #      head_width=0.03, head_length=0.02)     \n",
    "ax1.text(0.139, 0.65, \"U = const\")    \n",
    "ax1.text(0.72, 0.7, \"p = 0 bar\")\n",
    "ax1.text(0.45, 0.78, \"no slip\") \n",
    "ax1.axis('off')\n",
    "plt.savefig(\"BCs.png\", dpi = 300)"
   ]
  },
  {
   "cell_type": "code",
   "execution_count": null,
   "metadata": {},
   "outputs": [],
   "source": []
  }
 ],
 "metadata": {
  "colab": {
   "collapsed_sections": [],
   "name": "openFoam-installation.ipynb",
   "provenance": []
  },
  "kernelspec": {
   "display_name": "Python 3",
   "language": "python",
   "name": "python3"
  },
  "language_info": {
   "codemirror_mode": {
    "name": "ipython",
    "version": 3
   },
   "file_extension": ".py",
   "mimetype": "text/x-python",
   "name": "python",
   "nbconvert_exporter": "python",
   "pygments_lexer": "ipython3",
   "version": "3.7.9"
  }
 },
 "nbformat": 4,
 "nbformat_minor": 4
}
