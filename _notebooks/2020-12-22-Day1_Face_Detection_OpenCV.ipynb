{
 "cells": [
  {
   "cell_type": "markdown",
   "metadata": {},
   "source": [
    "> Day 1: Face Detection with OpenCV and Deep Learning\n",
    "\n",
    "- toc: true \n",
    "- badges: true\n",
    "- comments: true\n",
    "- categories: [ Deep Learning, Computer Vision]\n",
    "- image: images/chart-preview.png"
   ]
  },
  {
   "cell_type": "markdown",
   "metadata": {},
   "source": [
    "# Day1 Tutorial: Computer Vision Course"
   ]
  },
  {
   "cell_type": "markdown",
   "metadata": {},
   "source": [
    "Required arrguments:\n",
    "    \n",
    "    --image: The path to the input image.\n",
    "    --prototxt: The path to the Caffe prototxt file.\n",
    "    --model: The path to the pretrained Caffe model\n",
    "    --confidence:\n"
   ]
  },
  {
   "cell_type": "code",
   "execution_count": 6,
   "metadata": {},
   "outputs": [],
   "source": [
    "import numpy as np\n",
    "import argparse\n",
    "import cv2\n",
    "import os"
   ]
  },
  {
   "cell_type": "code",
   "execution_count": 8,
   "metadata": {},
   "outputs": [],
   "source": [
    "# construct the argument parse and parse the arguments\n",
    "#ap.add_argument('--name', '-n', default='foo', help='foo')\n",
    "ap = argparse.ArgumentParser(description='Fooo')\n",
    "ap.add_argument(\"-i\", \"--image\",\n",
    "                default = \"/home/imagda/sims-blog/_notebooks/images/face_detection05.jpg\", required=False,# for *.py use required= True\n",
    "    help=\"path to input image\")\n",
    "ap.add_argument(\"-p\", \"--prototxt\", default = \"/home/imagda/_coursera/pyimage/Day1/deep-learning-face-detection/deploy.prototxt.txt\",\n",
    "    help=\"path to Caffe 'deploy' prototxt file\")\n",
    "ap.add_argument(\"-m\", \"--model\", default = \"/home/imagda/_coursera/pyimage/Day1/deep-learning-face-detection/res10_300x300_ssd_iter_140000.caffemodel\",#required=True,\n",
    "    help=\"path to Caffe pre-trained model\")\n",
    "ap.add_argument(\"-c\", \"--confidence\", type=float, default=0.20,\n",
    "    help=\"minimum probability to filter weak detections\")\n",
    "args = vars(ap.parse_args([])) #for *.py use args = vars(ap.parse_args())"
   ]
  },
  {
   "cell_type": "code",
   "execution_count": null,
   "metadata": {},
   "outputs": [],
   "source": [
    "# load the input image and construct an input blob for the image\n",
    "# by resizing to a fixed 300x300 pixels and then normalizing it\n",
    "image = cv2.imread(args[\"image\"])\n",
    "(h, w) = image.shape[:2]\n",
    "blob = cv2.dnn.blobFromImage(cv2.resize(image, (300, 300)), 1.0, (300, 300), (104.0, 177.0, 123.0))\n",
    "print(h, w)"
   ]
  },
  {
   "cell_type": "code",
   "execution_count": null,
   "metadata": {},
   "outputs": [],
   "source": [
    "print(\"[INFO] loading model...\")\n",
    "net = cv2.dnn.readNetFromCaffe(args[\"prototxt\"], args[\"model\"])\n",
    "print(\"...done\")"
   ]
  },
  {
   "cell_type": "code",
   "execution_count": null,
   "metadata": {},
   "outputs": [],
   "source": [
    "# pass the blob through the network and obtain the detections and\n",
    "# predictions\n",
    "print(\"[INFO] computing object detections...\")\n",
    "net.setInput(blob)\n",
    "detections = net.forward()\n",
    "print(\"...done\")"
   ]
  },
  {
   "cell_type": "code",
   "execution_count": null,
   "metadata": {},
   "outputs": [],
   "source": [
    "# loop over the detections\n",
    "for i in range(0, detections.shape[2]):\n",
    "    # extract the confidence (i.e., probability) associated with the\n",
    "    # prediction\n",
    "    confidence = detections[0, 0, i, 2]\n",
    "\n",
    "    # filter out weak detections by ensuring the `confidence` is\n",
    "    # greater than the minimum confidence\n",
    "    if confidence > args[\"confidence\"]:\n",
    "        # compute the (x, y)-coordinates of the bounding box for the\n",
    "        # object\n",
    "        box = detections[0, 0, i, 3:7] * np.array([w, h, w, h])\n",
    "        (startX, startY, endX, endY) = box.astype(\"int\")\n",
    " \n",
    "        # draw the bounding box of the face along with the associated\n",
    "        # probability\n",
    "        text = \"{:.2f}%\".format(confidence * 100)\n",
    "        y = startY - 10 if startY - 10 > 10 else startY + 10\n",
    "        cv2.rectangle(image, (startX, startY), (endX, endY),\n",
    "            (0, 0, 255), 2)\n",
    "        cv2.putText(image, text, (startX, y),\n",
    "            cv2.FONT_HERSHEY_SIMPLEX, 0.45, (0, 0, 255), 2)\n",
    "\n",
    "# show the output image\n",
    "cv2.imshow(\"Output\", image)\n",
    "cv2.imwrite(\"face_detection05_t00.jpg\", image)\n",
    "#cv2.waitKey(0)"
   ]
  },
  {
   "cell_type": "code",
   "execution_count": 9,
   "metadata": {},
   "outputs": [],
   "source": [
    "#!jupyter nbconvert --to script 2020-12-22-Day1_Face_Detection_OpenCV.ipynb\n",
    "#To run is py use: python 2020-12-22-Day1_Face_Detection_OpenCV.py --image delme.jpg + modify the args"
   ]
  },
  {
   "cell_type": "markdown",
   "metadata": {},
   "source": [
    "References:\n",
    "\n",
    "<https://www.pyimagesearch.com/2018/02/26/face-detection-with-opencv-and-deep-learning/>\n",
    "\n",
    "<https://realpython.com/command-line-interfaces-python-argparse/>\n",
    "\n",
    "<https://medium.com/@data.scientist/ipython-trick-how-to-use-argparse-in-ipython-notebooks-a07423ab31fc>\n",
    "\n",
    "<https://www.pyimagesearch.com/2018/03/12/python-argparse-command-line-arguments/>"
   ]
  },
  {
   "cell_type": "code",
   "execution_count": null,
   "metadata": {},
   "outputs": [],
   "source": []
  }
 ],
 "metadata": {
  "kernelspec": {
   "display_name": "Python 3",
   "language": "python",
   "name": "python3"
  },
  "language_info": {
   "codemirror_mode": {
    "name": "ipython",
    "version": 3
   },
   "file_extension": ".py",
   "mimetype": "text/x-python",
   "name": "python",
   "nbconvert_exporter": "python",
   "pygments_lexer": "ipython3",
   "version": "3.7.9"
  }
 },
 "nbformat": 4,
 "nbformat_minor": 4
}
