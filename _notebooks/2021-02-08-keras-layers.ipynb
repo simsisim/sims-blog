{
 "cells": [
  {
   "cell_type": "markdown",
   "metadata": {},
   "source": [
    "# Layers in Keras\n",
    "> Layers in Keras.\n",
    "\n",
    "- toc: true \n",
    "- badges: true\n",
    "- comments: true\n",
    "- categories: [keras]\n",
    "- image: images/chart-preview.png"
   ]
  },
  {
   "cell_type": "code",
   "execution_count": 46,
   "metadata": {},
   "outputs": [],
   "source": [
    "import tensorflow  as tf\n",
    "from tensorflow import keras\n",
    "import numpy as np"
   ]
  },
  {
   "cell_type": "markdown",
   "metadata": {},
   "source": [
    "## VGG16"
   ]
  },
  {
   "cell_type": "code",
   "execution_count": 9,
   "metadata": {},
   "outputs": [],
   "source": [
    "vgg16 = tf.keras.applications.VGG16(include_top = False, weights = \"imagenet\",\\\n",
    "                                  input_tensor = tf.keras.layers.Input(shape = (224,224,3)))"
   ]
  },
  {
   "cell_type": "markdown",
   "metadata": {},
   "source": [
    "## Loop over layers, layer name"
   ]
  },
  {
   "cell_type": "code",
   "execution_count": 16,
   "metadata": {},
   "outputs": [
    {
     "name": "stdout",
     "output_type": "stream",
     "text": [
      "input_2 :  <tensorflow.python.keras.engine.input_layer.InputLayer object at 0x7f0f47f9af10>\n",
      "block1_conv1 :  <tensorflow.python.keras.layers.convolutional.Conv2D object at 0x7f0f47f884d0>\n",
      "block1_conv2 :  <tensorflow.python.keras.layers.convolutional.Conv2D object at 0x7f0f47f88c10>\n",
      "block1_pool :  <tensorflow.python.keras.layers.pooling.MaxPooling2D object at 0x7f0f64271b10>\n",
      "block2_conv1 :  <tensorflow.python.keras.layers.convolutional.Conv2D object at 0x7f0f8427fc90>\n",
      "block2_conv2 :  <tensorflow.python.keras.layers.convolutional.Conv2D object at 0x7f0f47fa92d0>\n",
      "block2_pool :  <tensorflow.python.keras.layers.pooling.MaxPooling2D object at 0x7f0f47faec90>\n",
      "block3_conv1 :  <tensorflow.python.keras.layers.convolutional.Conv2D object at 0x7f0f47f94050>\n",
      "block3_conv2 :  <tensorflow.python.keras.layers.convolutional.Conv2D object at 0x7f0f47fb0810>\n",
      "block3_conv3 :  <tensorflow.python.keras.layers.convolutional.Conv2D object at 0x7f0f47f868d0>\n",
      "block3_pool :  <tensorflow.python.keras.layers.pooling.MaxPooling2D object at 0x7f0f47f97890>\n",
      "block4_conv1 :  <tensorflow.python.keras.layers.convolutional.Conv2D object at 0x7f0f47fb8bd0>\n",
      "block4_conv2 :  <tensorflow.python.keras.layers.convolutional.Conv2D object at 0x7f0f47f96490>\n",
      "block4_conv3 :  <tensorflow.python.keras.layers.convolutional.Conv2D object at 0x7f0f47fa7ed0>\n",
      "block4_pool :  <tensorflow.python.keras.layers.pooling.MaxPooling2D object at 0x7f0f47f7b650>\n",
      "block5_conv1 :  <tensorflow.python.keras.layers.convolutional.Conv2D object at 0x7f0f47f9e910>\n",
      "block5_conv2 :  <tensorflow.python.keras.layers.convolutional.Conv2D object at 0x7f0f47f6e1d0>\n",
      "block5_conv3 :  <tensorflow.python.keras.layers.convolutional.Conv2D object at 0x7f0f47f70b90>\n",
      "block5_pool :  <tensorflow.python.keras.layers.pooling.MaxPooling2D object at 0x7f0f47f72990>\n"
     ]
    }
   ],
   "source": [
    "for layer in vgg16.layers:\n",
    "    print (layer.name, \": \", layer)"
   ]
  },
  {
   "cell_type": "code",
   "execution_count": 23,
   "metadata": {},
   "outputs": [
    {
     "name": "stdout",
     "output_type": "stream",
     "text": [
      "input_2\n",
      "block1_conv1\n",
      "block1_conv2\n",
      "block1_pool\n",
      "block2_conv1\n",
      "block2_conv2\n",
      "block2_pool\n",
      "block3_conv1\n",
      "block3_conv2\n",
      "block3_conv3\n",
      "block3_pool\n",
      "block4_conv1\n",
      "block4_conv2\n",
      "block4_conv3\n",
      "block4_pool\n",
      "block5_conv1\n",
      "block5_conv2\n",
      "block5_conv3\n",
      "block5_pool\n"
     ]
    }
   ],
   "source": [
    "for idx in range(len(vgg16.layers)):\n",
    "  print(vgg16.get_layer(index = idx).name)"
   ]
  },
  {
   "cell_type": "markdown",
   "metadata": {},
   "source": [
    "## Get first 4 layers"
   ]
  },
  {
   "cell_type": "code",
   "execution_count": 44,
   "metadata": {},
   "outputs": [
    {
     "name": "stdout",
     "output_type": "stream",
     "text": [
      "(None, 224, 224, 3)\n",
      "(None, 224, 224, 64)\n",
      "<bound method Layer.get_weights of <tensorflow.python.keras.layers.convolutional.Conv2D object at 0x7f0f47f1b410>>\n",
      "block1_conv1\n",
      "Tensor(\"input_4:0\", shape=(None, 224, 224, 3), dtype=float32)\n",
      "Tensor(\"block1_conv1/Relu_3:0\", shape=(None, 224, 224, 64), dtype=float32)\n"
     ]
    }
   ],
   "source": [
    "# print input shape\n",
    "vgg16 = tf.keras.applications.VGG16(include_top = False, weights = \"imagenet\",\\\n",
    "                                  input_tensor = tf.keras.layers.Input(shape = (224,224,3)))\n",
    "print(vgg16.layers[1].input_shape)\n",
    "# print output shape\n",
    "print(vgg16.layers[1].output_shape)\n",
    "# weight matrix\n",
    "print(vgg16.layers[1].get_weights)\n",
    "# layer name\n",
    "print(vgg16.layers[1].name)\n",
    "# input tensor \n",
    "print(vgg16.layers[1].input)\n",
    "# output tensor \n",
    "print(vgg16.layers[1].output)"
   ]
  },
  {
   "cell_type": "markdown",
   "metadata": {},
   "source": [
    "## Grab layer after name"
   ]
  },
  {
   "cell_type": "code",
   "execution_count": 13,
   "metadata": {},
   "outputs": [
    {
     "data": {
      "text/plain": [
       "<tf.Tensor 'block3_conv1/Relu_1:0' shape=(None, 56, 56, 256) dtype=float32>"
      ]
     },
     "execution_count": 13,
     "metadata": {},
     "output_type": "execute_result"
    }
   ],
   "source": [
    "vgg16 = tf.keras.applications.VGG16(include_top = False, weights = \"imagenet\",\\\n",
    "                                  input_tensor = tf.keras.layers.Input(shape = (224,224,3)))\n",
    "vgg16.get_layer('block3_conv1').output"
   ]
  },
  {
   "cell_type": "markdown",
   "metadata": {},
   "source": [
    "## Build a model based on VGG16"
   ]
  },
  {
   "cell_type": "code",
   "execution_count": 45,
   "metadata": {},
   "outputs": [],
   "source": [
    "vgg16 = tf.keras.applications.VGG16(include_top = False, weights = \"imagenet\",\\\n",
    "                                  input_tensor = tf.keras.layers.Input(shape = (224,224,3)))\n",
    "model_output = vgg16.get_layer(\"block3_conv1\").output\n",
    "new_model = tf.keras.models.Model(inputs=vgg16.input, outputs=model_output)"
   ]
  }
 ],
 "metadata": {
  "kernelspec": {
   "display_name": "Python 3",
   "language": "python",
   "name": "python3"
  },
  "language_info": {
   "codemirror_mode": {
    "name": "ipython",
    "version": 3
   },
   "file_extension": ".py",
   "mimetype": "text/x-python",
   "name": "python",
   "nbconvert_exporter": "python",
   "pygments_lexer": "ipython3",
   "version": "3.7.9"
  },
  "varInspector": {
   "cols": {
    "lenName": 16,
    "lenType": 16,
    "lenVar": 40
   },
   "kernels_config": {
    "python": {
     "delete_cmd_postfix": "",
     "delete_cmd_prefix": "del ",
     "library": "var_list.py",
     "varRefreshCmd": "print(var_dic_list())"
    },
    "r": {
     "delete_cmd_postfix": ") ",
     "delete_cmd_prefix": "rm(",
     "library": "var_list.r",
     "varRefreshCmd": "cat(var_dic_list()) "
    }
   },
   "types_to_exclude": [
    "module",
    "function",
    "builtin_function_or_method",
    "instance",
    "_Feature"
   ],
   "window_display": false
  }
 },
 "nbformat": 4,
 "nbformat_minor": 4
}
