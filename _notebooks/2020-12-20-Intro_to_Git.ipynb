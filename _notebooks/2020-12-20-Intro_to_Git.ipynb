{
 "cells": [
  {
   "cell_type": "markdown",
   "metadata": {},
   "source": [
    "# A list of commands for Git on Github\n",
    "> A list of commands for Git on Github\n",
    "\n",
    "- toc: true \n",
    "- badges: true\n",
    "- comments: true\n",
    "- categories: [github, commands]\n",
    "- image: images/chart-preview.png"
   ]
  },
  {
   "cell_type": "markdown",
   "metadata": {},
   "source": [
    "## 1. Open Terminal"
   ]
  },
  {
   "cell_type": "markdown",
   "metadata": {},
   "source": [
    "## 2. Change the current working directory to your local repository"
   ]
  },
  {
   "cell_type": "markdown",
   "metadata": {},
   "source": [
    "## 3. Checking the status of the repository (go inside  project folder)"
   ]
  },
  {
   "cell_type": "code",
   "execution_count": null,
   "metadata": {},
   "outputs": [],
   "source": [
    "git status"
   ]
  },
  {
   "cell_type": "markdown",
   "metadata": {},
   "source": [
    "## 4. Staging files (add files to the staging area)"
   ]
  },
  {
   "cell_type": "code",
   "execution_count": null,
   "metadata": {},
   "outputs": [],
   "source": [
    "touch test.py\n",
    "git add test.py\n",
    "\n",
    "#git add test01.py test02.py test03.py\n",
    "git add . # adds all files in the directory"
   ]
  },
  {
   "cell_type": "code",
   "execution_count": null,
   "metadata": {},
   "outputs": [],
   "source": [
    "git reset HEAD test.py #unstage a file that was commited"
   ]
  },
  {
   "cell_type": "markdown",
   "metadata": {},
   "source": [
    "## 5. Making commits"
   ]
  },
  {
   "cell_type": "code",
   "execution_count": null,
   "metadata": {},
   "outputs": [],
   "source": [
    "git commit -m \"Commit message\" # commit a file\n",
    "\n",
    "git log # list of all comits \n",
    "\n",
    "git checkout <commit-hash> # go back to a previous commited state\n",
    "\n",
    "git checkout master # go back to last commit"
   ]
  },
  {
   "cell_type": "markdown",
   "metadata": {},
   "source": [
    "## 6. Pushing changes to repository"
   ]
  },
  {
   "cell_type": "code",
   "execution_count": null,
   "metadata": {},
   "outputs": [],
   "source": [
    "git push origin"
   ]
  },
  {
   "cell_type": "markdown",
   "metadata": {},
   "source": [
    "## 7. Remove files"
   ]
  },
  {
   "cell_type": "code",
   "execution_count": null,
   "metadata": {},
   "outputs": [],
   "source": [
    "git rm test.py\n",
    "git commit -m \"remove test.py\"\n",
    "\n",
    "git rm -r my_folder #delete folder"
   ]
  },
  {
   "cell_type": "markdown",
   "metadata": {},
   "source": [
    "## 8. Add / Commit multiple files"
   ]
  },
  {
   "cell_type": "code",
   "execution_count": null,
   "metadata": {},
   "outputs": [],
   "source": [
    "git add .\n",
    "\n",
    "git commit -m \"m: my mesage flag\" "
   ]
  },
  {
   "cell_type": "code",
   "execution_count": null,
   "metadata": {},
   "outputs": [],
   "source": [
    "#You can put those steps together like this:\n",
    "git commit -a -m \"m: my mesage flag\""
   ]
  },
  {
   "cell_type": "markdown",
   "metadata": {},
   "source": [
    "## 9. Create a Github blog with fastpages \n",
    "1. Create a new repository from fastpage  sims-coursera\n",
    "\n",
    "2. Create a new repository from fastpage <https://github.com/fastai/fastpages/generate> sims-coursera\n",
    "\n",
    "3. Follow the indication in Initial Setup file to generate and create secret and public keys\n",
    "\n",
    "4. Accept / Merge the pullrequest: <https://github.com/simsisim/sims-coursera/pull/1> (3-4 min)\n",
    "\n",
    "5. Blog generated: <https://github.com/simsisim/sims-coursera>\n",
    "\n",
    "6. Customize blog title etc. by changing: <https://github.com/simsisim/sims-coursera/blob/master/_config.yml>"
   ]
  },
  {
   "cell_type": "markdown",
   "metadata": {},
   "source": [
    "## 10. Git / Clone a new repository from Github to local\n",
    "\n",
    "1. mkdir new-folder\n",
    "\n",
    "2. cd new-folder\n",
    "\n",
    "3. git init\n",
    "\n",
    "4. git clone https://github.com/new-folder.git"
   ]
  },
  {
   "cell_type": "markdown",
   "metadata": {},
   "source": [
    "## 11. References\n",
    "\n",
    "> https:   https://www.notion.so/Introduction-to-Git-ac396a0697704709a12b6a0e545db049"
   ]
  },
  {
   "cell_type": "code",
   "execution_count": null,
   "metadata": {},
   "outputs": [],
   "source": [
    "#> https:   https://www.notion.so/Introduction-to-Git-ac396a0697704709a12b6a0e545db049\n",
    "\n",
    "#> youtube: https://www.youtube.com/watch?v=USjZcfj8yxE&t=172s\n",
    "\n",
    "#> github:  https://github.com/fastai/fastpages\n",
    "\n",
    "#> youtube: https://www.youtube.com/watch?v=L0boq3zqazI&feature=youtu.be\n"
   ]
  }
 ],
 "metadata": {
  "kernelspec": {
   "display_name": "Python 3",
   "language": "python",
   "name": "python3"
  },
  "language_info": {
   "codemirror_mode": {
    "name": "ipython",
    "version": 3
   },
   "file_extension": ".py",
   "mimetype": "text/x-python",
   "name": "python",
   "nbconvert_exporter": "python",
   "pygments_lexer": "ipython3",
   "version": "3.7.9"
  }
 },
 "nbformat": 4,
 "nbformat_minor": 4
}
